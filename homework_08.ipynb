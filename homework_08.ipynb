{
 "cells": [
  {
   "cell_type": "markdown",
   "id": "c681c181-c91f-4a6c-899e-c5aa22e941f5",
   "metadata": {},
   "source": [
    "### 3 Body Problem (TV series) \n",
    "\n",
    "<b>Summary</b>\n",
    "\n",
    "<b>3 Body Problem</b> is an American science fiction television series created by *David Benioff, D. B. Weiss and Alexander Woo*, based on the Hugo Award–winning Chinese novel The Three-Body Problem by *Liu Cixin*. It is the second live-action adaptation after the 2023 Chinese television series.\n",
    "\n",
    "The series premiered on Netflix with eight episodes on March 21, 2024, and received mixed to positive reviews.\n",
    "\n",
    "<b>Premise</b>\n",
    "\n",
    "*Ye Wenjie*, an astrophysicist who sees her father beaten to death during a struggle session in the Chinese Cultural Revolution, is conscripted by the military. Due to her scientific background she is sent to a secret military base in a remote region. Her decision at the base to respond to contact from an alien planet implicates a group of scientists in the present day, forcing them to confront humanity's greatest threat."
   ]
  },
  {
   "cell_type": "code",
   "execution_count": null,
   "id": "305a2c1a-180e-4059-8963-d5042abe1e4d",
   "metadata": {},
   "outputs": [],
   "source": []
  }
 ],
 "metadata": {
  "kernelspec": {
   "display_name": "Python 3 (ipykernel)",
   "language": "python",
   "name": "python3"
  },
  "language_info": {
   "codemirror_mode": {
    "name": "ipython",
    "version": 3
   },
   "file_extension": ".py",
   "mimetype": "text/x-python",
   "name": "python",
   "nbconvert_exporter": "python",
   "pygments_lexer": "ipython3",
   "version": "3.11.5"
  }
 },
 "nbformat": 4,
 "nbformat_minor": 5
}
